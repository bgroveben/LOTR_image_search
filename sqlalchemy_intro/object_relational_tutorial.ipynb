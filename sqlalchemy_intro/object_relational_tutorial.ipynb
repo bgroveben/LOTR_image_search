{
 "cells": [
  {
   "cell_type": "markdown",
   "metadata": {},
   "source": [
    "# [Object Relational Tutorial](http://docs.sqlalchemy.org/en/latest/orm/tutorial.html)"
   ]
  },
  {
   "cell_type": "markdown",
   "metadata": {},
   "source": [
    "The SQLAlchemy Object Relational Mapper presents a method of associating user-defined Python classes with database tables, and instances of those classes (objects) with rows in their corresponding tables.  \n",
    "It includes a system that transparently synchronizes all changes in state between objects and their related rows, called a unit of work, as well as a system for expressing database queries in terms of the user defined classes and their defined relationships between each other.  \n",
    "The ORM is in contrast to the SQLAlchemy Expression Language, upon which the ORM is constructed.  \n",
    "Whereas the SQL Expression Language, introduced in SQL Expression Language Tutorial, presents a system of representing the primitive constructs of the relational database directly without opinion, the ORM presents a high level and abstracted pattern of usage, which itself is an example of applied usage of the Expression Language.  \n",
    "While there is overlap among the usage patterns of the ORM and the Expression Language, the similarities are more superficial than they may at first appear.  \n",
    "One approaches the structure and content of data from the perspective of a user-defined domain model which is transparently persisted and refreshed from its underlying storage model.  \n",
    "The other approaches it from the perspective of literal schema and SQL expression representations which are explicitly composed into messages consumed individually by the database.  \n",
    "A successful application may be constructed using the Object Relational Mapper exclusively.  \n",
    "In advanced situations, an application constructed with the ORM may make occasional usage of the Expression Language directly in certain areas where specific database interactions are required."
   ]
  },
  {
   "cell_type": "code",
   "execution_count": 17,
   "metadata": {},
   "outputs": [
    {
     "data": {
      "text/plain": [
       "'1.2.10'"
      ]
     },
     "execution_count": 17,
     "metadata": {},
     "output_type": "execute_result"
    }
   ],
   "source": [
    "import sqlalchemy\n",
    "sqlalchemy.__version__"
   ]
  },
  {
   "cell_type": "markdown",
   "metadata": {},
   "source": [
    "For this tutorial we will use an in-memory-only SQLite database.  \n",
    "To connect we can use `create_engine()`:"
   ]
  },
  {
   "cell_type": "code",
   "execution_count": 18,
   "metadata": {},
   "outputs": [
    {
     "data": {
      "text/plain": [
       "'\\n    Connects a :class:`~sqlalchemy.pool.Pool` and\\n    :class:`~sqlalchemy.engine.interfaces.Dialect` together to provide a\\n    source of database connectivity and behavior.\\n\\n    An :class:`.Engine` object is instantiated publicly using the\\n    :func:`~sqlalchemy.create_engine` function.\\n\\n    See also:\\n\\n    :doc:`/core/engines`\\n\\n    :ref:`connections_toplevel`\\n\\n    '"
      ]
     },
     "execution_count": 18,
     "metadata": {},
     "output_type": "execute_result"
    }
   ],
   "source": [
    "from sqlalchemy import create_engine\n",
    "engine = create_engine('sqlite:///:memory:', echo=True); engine.__doc__"
   ]
  },
  {
   "cell_type": "code",
   "execution_count": 19,
   "metadata": {},
   "outputs": [
    {
     "data": {
      "text/plain": [
       "Engine(sqlite:///:memory:)"
      ]
     },
     "execution_count": 19,
     "metadata": {},
     "output_type": "execute_result"
    }
   ],
   "source": [
    "engine"
   ]
  },
  {
   "cell_type": "markdown",
   "metadata": {},
   "source": [
    "The echo flag is a shortcut to setting up SQLAlchemy logging, which is accomplished via Python’s standard logging module.  \n",
    "With it enabled, we’ll see all the generated SQL produced.  \n",
    "If you are working through this tutorial and want less output generated, set it to False.  \n",
    "This tutorial will format the SQL behind a popup window so it doesn’t get in our way; just click the “SQL” links to see what’s being generated.  \n",
    "The return value of `create_engine()` is an instance of Engine, and it represents the core interface to the database, adapted through a dialect that handles the details of the database and DBAPI in use.  \n",
    "In this case the SQLite dialect will interpret instructions to the Python built-in sqlite3 module.  \n",
    "The first time a method like `Engine.execute()` or `Engine.connect()` is called, the Engine establishes a real DBAPI connection to the database, which is then used to emit the SQL.  \n",
    "When using the ORM, we typically don’t use the Engine directly once created; instead, it’s used behind the scenes by the ORM as we’ll see shortly.  \n",
    "**Note about Lazy Connecting:**  \n",
    "The Engine, when first returned by `create_engine()`, has not actually tried to connect to the database yet; that happens only the first time it is asked to perform a task against the database."
   ]
  },
  {
   "cell_type": "markdown",
   "metadata": {},
   "source": [
    "## [Declare a Mapping](http://docs.sqlalchemy.org/en/latest/orm/tutorial.html#declare-a-mapping)"
   ]
  },
  {
   "cell_type": "markdown",
   "metadata": {},
   "source": [
    "When using the ORM, the configurational process starts by describing the database tables we’ll be dealing with, and then by defining our own classes which will be mapped to those tables.  \n",
    "In modern SQLAlchemy, these two tasks are usually performed together, using a system known as Declarative, which allows us to create classes that include directives to describe the actual database table that they will be mapped to.  \n",
    "Classes mapped using the Declarative system are defined in terms of a base class which maintains a catalog of classes and tables relative to that base - this is known as the declarative base class.  \n",
    "Our application will usually have just one instance of this base in a commonly imported module.  \n",
    "We create the base class using the `declarative_base()` function, as follows:"
   ]
  },
  {
   "cell_type": "code",
   "execution_count": 20,
   "metadata": {},
   "outputs": [
    {
     "data": {
      "text/plain": [
       "'The most base type'"
      ]
     },
     "execution_count": 20,
     "metadata": {},
     "output_type": "execute_result"
    }
   ],
   "source": [
    "from sqlalchemy.ext.declarative import declarative_base\n",
    "\n",
    "Base = declarative_base(); Base.__doc__"
   ]
  },
  {
   "cell_type": "code",
   "execution_count": 21,
   "metadata": {},
   "outputs": [
    {
     "data": {
      "text/plain": [
       "sqlalchemy.ext.declarative.api.Base"
      ]
     },
     "execution_count": 21,
     "metadata": {},
     "output_type": "execute_result"
    }
   ],
   "source": [
    "Base"
   ]
  },
  {
   "cell_type": "markdown",
   "metadata": {},
   "source": [
    "Now that we have a base of the most base type, we can define any number of mapped classes in terms of it.  \n",
    "We will start with just a single table called **users**, which will store records for the end-users using our application.  \n",
    "A new class called User will be the class to which we map this table.  \n",
    "Within the class, we define details about the table to which we’ll be mapping, primarily the table name, and names and datatypes of columns.  \n",
    "Although the User class defines a `__repr__()` method, it is optional; we only implement it in this tutorial so that our examples show nicely formatted User objects."
   ]
  },
  {
   "cell_type": "code",
   "execution_count": 22,
   "metadata": {},
   "outputs": [],
   "source": [
    "from sqlalchemy import Column, Integer, String\n",
    "\n",
    "\n",
    "class User(Base):\n",
    "    \n",
    "    __tablename__ = 'users'\n",
    "    \n",
    "    id = Column(Integer, primary_key=True)\n",
    "    name = Column(String)\n",
    "    fullname = Column(String)\n",
    "    password = Column(String)\n",
    "    \n",
    "    def __repr__(self):\n",
    "        return \"<User(name='%s', fullname='%s', password='%s')>\" % (self.name, self.fullname, self.password)"
   ]
  },
  {
   "cell_type": "markdown",
   "metadata": {},
   "source": [
    "A class using Declarative at a minimum needs a `__tablename__` attribute, and at least one Column which is part of a primary key.  \n",
    "SQLAlchemy never makes any assumptions by itself about the table to which a class refers, including that it has no built-in conventions for names, datatypes, or constraints.  \n",
    "But this doesn’t mean boilerplate is required; instead, you’re encouraged to create your own automated conventions using helper functions and mixin classes, which is described in detail at Mixin and Custom Base Classes.  \n",
    "When our class is constructed, Declarative replaces all the Column objects with special Python accessors known as descriptors; this is a process known as instrumentation.  \n",
    "The \"instrumented\" mapped class will provide us with the means to refer to our table in a SQL context as well as to persist and load the values of columns from the database.  \n",
    "Outside of what the mapping process does to our class, the class remains otherwise mostly a normal Python class, to which we can define any number of ordinary attributes and methods needed by our application."
   ]
  },
  {
   "cell_type": "markdown",
   "metadata": {},
   "source": [
    "## [Create a Schema](http://docs.sqlalchemy.org/en/latest/orm/tutorial.html#create-a-schema)"
   ]
  },
  {
   "cell_type": "markdown",
   "metadata": {},
   "source": [
    "With our User class constructed via the Declarative system, we have defined information about our table, known as table metadata.  \n",
    "The object used by SQLAlchemy to represent this information for a specific table is called the Table object, and here Declarative has made one for us.  \n",
    "We can see this object by inspecting the `__table__` attribute:"
   ]
  },
  {
   "cell_type": "raw",
   "metadata": {},
   "source": [
    ">>> User.__table__ \n",
    "Table('users', MetaData(bind=None),\n",
    "            Column('id', Integer(), table=<users>, primary_key=True, nullable=False),\n",
    "            Column('name', String(), table=<users>),\n",
    "            Column('fullname', String(), table=<users>),\n",
    "            Column('password', String(), table=<users>), schema=None)"
   ]
  },
  {
   "cell_type": "markdown",
   "metadata": {},
   "source": [
    "When we declared our class, Declarative used a Python metaclass in order to perform additional activities once the class declaration was complete; within this phase, it then created a Table object according to our specifications, and associated it with the class by constructing a Mapper object.  \n",
    "This object is a behind-the-scenes object we normally don’t need to deal with directly (though it can provide plenty of information about our mapping when we need it).  \n",
    "\n",
    "The Table object is a member of a larger collection known as MetaData.  \n",
    "When using Declarative, this object is available using the `.metadata` attribute of our declarative base class.  \n",
    "\n",
    "The MetaData is a registry which includes the ability to emit a limited set of schema generation commands to the database.  \n",
    "As our SQLite database does not actually have a users table present, we can use MetaData to issue `CREATE TABLE` statements to the database for all tables that don’t yet exist.  \n",
    "Below, we call the `MetaData.create_all()` method, passing in our Engine as a source of database connectivity.  \n",
    "We will see that special commands are first emitted to check for the presence of the users table, and following that the actual `CREATE TABLE` statement:"
   ]
  },
  {
   "cell_type": "code",
   "execution_count": 24,
   "metadata": {},
   "outputs": [
    {
     "name": "stdout",
     "output_type": "stream",
     "text": [
      "2018-08-13 02:35:04,782 INFO sqlalchemy.engine.base.Engine SELECT CAST('test plain returns' AS VARCHAR(60)) AS anon_1\n",
      "2018-08-13 02:35:04,783 INFO sqlalchemy.engine.base.Engine ()\n",
      "2018-08-13 02:35:04,785 INFO sqlalchemy.engine.base.Engine SELECT CAST('test unicode returns' AS VARCHAR(60)) AS anon_1\n",
      "2018-08-13 02:35:04,786 INFO sqlalchemy.engine.base.Engine ()\n",
      "2018-08-13 02:35:04,789 INFO sqlalchemy.engine.base.Engine PRAGMA table_info(\"users\")\n",
      "2018-08-13 02:35:04,790 INFO sqlalchemy.engine.base.Engine ()\n",
      "2018-08-13 02:35:04,794 INFO sqlalchemy.engine.base.Engine \n",
      "CREATE TABLE users (\n",
      "\tid INTEGER NOT NULL, \n",
      "\tname VARCHAR, \n",
      "\tfullname VARCHAR, \n",
      "\tpassword VARCHAR, \n",
      "\tPRIMARY KEY (id)\n",
      ")\n",
      "\n",
      "\n",
      "2018-08-13 02:35:04,795 INFO sqlalchemy.engine.base.Engine ()\n",
      "2018-08-13 02:35:04,797 INFO sqlalchemy.engine.base.Engine COMMIT\n"
     ]
    }
   ],
   "source": [
    "Base.metadata.create_all(engine)"
   ]
  },
  {
   "cell_type": "markdown",
   "metadata": {},
   "source": [
    "**Classical Mappings**  \n",
    "The Declarative system, though highly recommended, is not required in order to use SQLAlchemy’s ORM.  \n",
    "Outside of Declarative, any plain Python class can be mapped to any Table using the `mapper()` function directly; this less common usage is described at [Classical Mappings](http://docs.sqlalchemy.org/en/latest/orm/mapping_styles.html#classical-mapping).\n"
   ]
  },
  {
   "cell_type": "markdown",
   "metadata": {},
   "source": [
    "## [Create an Instance of the Mapped Class](http://docs.sqlalchemy.org/en/latest/orm/tutorial.html#create-an-instance-of-the-mapped-class)"
   ]
  },
  {
   "cell_type": "code",
   "execution_count": null,
   "metadata": {},
   "outputs": [],
   "source": []
  }
 ],
 "metadata": {
  "kernelspec": {
   "display_name": "Python 2",
   "language": "python",
   "name": "python2"
  },
  "language_info": {
   "codemirror_mode": {
    "name": "ipython",
    "version": 2
   },
   "file_extension": ".py",
   "mimetype": "text/x-python",
   "name": "python",
   "nbconvert_exporter": "python",
   "pygments_lexer": "ipython2",
   "version": "2.7.13"
  }
 },
 "nbformat": 4,
 "nbformat_minor": 2
}
