{
 "cells": [
  {
   "cell_type": "markdown",
   "metadata": {},
   "source": [
    "# [Python DB-API module for SQLite 3.](https://docs.python.org/2/library/sqlite3.html)\n",
    "\n",
    "## [pysqlite Github repository](https://github.com/ghaering/pysqlite)"
   ]
  },
  {
   "cell_type": "markdown",
   "metadata": {},
   "source": [
    "SQLite is a C library that provides a lightweight disk-based database that doesn’t require a separate server process and allows accessing the database using a nonstandard variant of the SQL query language.  \n",
    "Some applications can use SQLite for internal data storage.  \n",
    "It’s also possible to prototype an application using SQLite and then port the code to a larger database such as PostgreSQL or Oracle.  \n",
    "The sqlite3 module was written by Gerhard Häring.  \n",
    "It provides a SQL interface compliant with the DB-API 2.0 specification described by PEP 249.  \n",
    "To use the module, you must first create a Connection object that represents the database.  \n",
    "Here the data will be stored in the example.db file:"
   ]
  },
  {
   "cell_type": "code",
   "execution_count": 1,
   "metadata": {},
   "outputs": [
    {
     "data": {
      "text/plain": [
       "<sqlite3.Connection at 0x108a4b4b8>"
      ]
     },
     "execution_count": 1,
     "metadata": {},
     "output_type": "execute_result"
    }
   ],
   "source": [
    "import sqlite3\n",
    "\n",
    "conn = sqlite3.connect('example.db'); conn"
   ]
  },
  {
   "cell_type": "code",
   "execution_count": 2,
   "metadata": {},
   "outputs": [
    {
     "data": {
      "text/plain": [
       "'SQLite database connection object.'"
      ]
     },
     "execution_count": 2,
     "metadata": {},
     "output_type": "execute_result"
    }
   ],
   "source": [
    "conn.__doc__"
   ]
  },
  {
   "cell_type": "code",
   "execution_count": 3,
   "metadata": {},
   "outputs": [
    {
     "data": {
      "text/plain": [
       "['DataError',\n",
       " 'DatabaseError',\n",
       " 'Error',\n",
       " 'IntegrityError',\n",
       " 'InterfaceError',\n",
       " 'InternalError',\n",
       " 'NotSupportedError',\n",
       " 'OperationalError',\n",
       " 'ProgrammingError',\n",
       " 'Warning',\n",
       " '__call__',\n",
       " '__class__',\n",
       " '__delattr__',\n",
       " '__doc__',\n",
       " '__enter__',\n",
       " '__exit__',\n",
       " '__format__',\n",
       " '__getattribute__',\n",
       " '__hash__',\n",
       " '__init__',\n",
       " '__new__',\n",
       " '__reduce__',\n",
       " '__reduce_ex__',\n",
       " '__repr__',\n",
       " '__setattr__',\n",
       " '__sizeof__',\n",
       " '__str__',\n",
       " '__subclasshook__',\n",
       " 'close',\n",
       " 'commit',\n",
       " 'create_aggregate',\n",
       " 'create_collation',\n",
       " 'create_function',\n",
       " 'cursor',\n",
       " 'execute',\n",
       " 'executemany',\n",
       " 'executescript',\n",
       " 'interrupt',\n",
       " 'isolation_level',\n",
       " 'iterdump',\n",
       " 'rollback',\n",
       " 'row_factory',\n",
       " 'set_authorizer',\n",
       " 'set_progress_handler',\n",
       " 'text_factory',\n",
       " 'total_changes']"
      ]
     },
     "execution_count": 3,
     "metadata": {},
     "output_type": "execute_result"
    }
   ],
   "source": [
    "dir(conn)"
   ]
  },
  {
   "cell_type": "markdown",
   "metadata": {},
   "source": [
    "You can also supply the special name `:memory:` to create a database in RAM.  \n",
    "Once you have a Connection, you can create a Cursor object and call its `execute()` method to perform SQL commands:"
   ]
  },
  {
   "cell_type": "code",
   "execution_count": 4,
   "metadata": {},
   "outputs": [
    {
     "data": {
      "text/plain": [
       "<sqlite3.Cursor at 0x108a483b0>"
      ]
     },
     "execution_count": 4,
     "metadata": {},
     "output_type": "execute_result"
    }
   ],
   "source": [
    "c = conn.cursor()\n",
    "\n",
    "# Create table\n",
    "c.execute('''CREATE TABLE stocks(date text, trans text, symbol text, qty real, price real)'''); c"
   ]
  },
  {
   "cell_type": "code",
   "execution_count": 5,
   "metadata": {},
   "outputs": [],
   "source": [
    "# Insert a row of data\n",
    "c.execute(\"INSERT INTO stocks VALUES ('2006-01-05', 'BUY', 'RHAT', 100, 35.14)\")\n",
    "\n",
    "# Save (commit) the changes\n",
    "conn.commit()\n",
    "\n",
    "# Close the connection when you are done\n",
    "# Uncommitted changes will be discarded\n",
    "conn.close()"
   ]
  },
  {
   "cell_type": "markdown",
   "metadata": {},
   "source": [
    "Remember, if you just close your database connection without calling `commit()` first, your changes will be lost.  \n",
    "The saved data is persistent and is available in subsequent sessions:"
   ]
  },
  {
   "cell_type": "code",
   "execution_count": 6,
   "metadata": {},
   "outputs": [
    {
     "data": {
      "text/plain": [
       "<sqlite3.Cursor at 0x108a481f0>"
      ]
     },
     "execution_count": 6,
     "metadata": {},
     "output_type": "execute_result"
    }
   ],
   "source": [
    "import sqlite3\n",
    "\n",
    "conn = sqlite3.connect('example.db')\n",
    "c = conn.cursor(); c"
   ]
  },
  {
   "cell_type": "markdown",
   "metadata": {},
   "source": [
    "Usually your SQL operations will need to use values from Python variables.  \n",
    "You shouldn’t assemble your query using Python’s string operations because doing so is insecure; it makes your program vulnerable to an SQL injection attack.  \n",
    "Instead, use the DB-API’s parameter substitution.  \n",
    "Put `?` as a placeholder wherever you want to use a value, and then provide a tuple of values as the second argument to the cursor’s `execute()` method.  \n",
    "Other database modules may use a different placeholder, such as `%s` or `:1`."
   ]
  },
  {
   "cell_type": "code",
   "execution_count": 7,
   "metadata": {},
   "outputs": [
    {
     "name": "stdout",
     "output_type": "stream",
     "text": [
      "(u'2006-01-05', u'BUY', u'RHAT', 100.0, 35.14)\n"
     ]
    }
   ],
   "source": [
    "# This is insecure and bad\n",
    "symbol = 'RHAT'\n",
    "c.execute(\"SELECT * FROM stocks WHERE symbol = '%s'\" % symbol)\n",
    "print c.fetchone()"
   ]
  },
  {
   "cell_type": "code",
   "execution_count": 8,
   "metadata": {},
   "outputs": [
    {
     "name": "stdout",
     "output_type": "stream",
     "text": [
      "(u'2006-01-05', u'BUY', u'RHAT', 100.0, 35.14)\n"
     ]
    }
   ],
   "source": [
    "# Do this instead\n",
    "t = ('RHAT',)\n",
    "c.execute('SELECT * FROM stocks WHERE symbol = ?', t)\n",
    "print c.fetchone()"
   ]
  },
  {
   "cell_type": "code",
   "execution_count": 9,
   "metadata": {},
   "outputs": [
    {
     "data": {
      "text/plain": [
       "<sqlite3.Cursor at 0x108a481f0>"
      ]
     },
     "execution_count": 9,
     "metadata": {},
     "output_type": "execute_result"
    }
   ],
   "source": [
    "# Insert multiple records\n",
    "purchases = [('2006-03-28', 'BUY', 'IBM', 1000, 45.00),\n",
    "             ('2006-04-05', 'BUY', 'MSFT', 1000, 72.00),\n",
    "             ('2006-04-06', 'SELL', 'IBM', 500, 53.00),\n",
    "            ]\n",
    "c.executemany('INSERT INTO stocks VALUES (?,?,?,?,?)', purchases)"
   ]
  },
  {
   "cell_type": "markdown",
   "metadata": {},
   "source": [
    "To retrieve data after executing a SELECT statement, you can either treat the cursor as an iterator, call the cursor’s `fetchone()` method to retrieve a single matching row, or call `fetchall()` to get a list of the matching rows.  \n",
    "This example uses the iterator form:"
   ]
  },
  {
   "cell_type": "code",
   "execution_count": 10,
   "metadata": {},
   "outputs": [
    {
     "name": "stdout",
     "output_type": "stream",
     "text": [
      "(u'2006-01-05', u'BUY', u'RHAT', 100.0, 35.14)\n",
      "(u'2006-03-28', u'BUY', u'IBM', 1000.0, 45.0)\n",
      "(u'2006-04-06', u'SELL', u'IBM', 500.0, 53.0)\n",
      "(u'2006-04-05', u'BUY', u'MSFT', 1000.0, 72.0)\n"
     ]
    }
   ],
   "source": [
    "for row in c.execute('SELECT * FROM stocks ORDER BY price'):\n",
    "    print row"
   ]
  },
  {
   "cell_type": "markdown",
   "metadata": {},
   "source": [
    "You can build a basic shell for SQLite, for experiments and such:"
   ]
  },
  {
   "cell_type": "code",
   "execution_count": 11,
   "metadata": {},
   "outputs": [
    {
     "name": "stdout",
     "output_type": "stream",
     "text": [
      "Enter your SQL commands for this sqlite3 database.\n",
      "To exit, enter a blank line.\n",
      "\n"
     ]
    }
   ],
   "source": [
    "import sqlite3\n",
    "\n",
    "# Create a database in RAM\n",
    "# Using \":memory:\" will open a database connection to a database that resides in RAM instead of on disk\n",
    "con = sqlite3.connect(\":memory:\")\n",
    "con.isolation_level = None\n",
    "# Create a Cursor object\n",
    "cur = con.cursor()\n",
    "\n",
    "buffer = \"\"\n",
    "\n",
    "print \"Enter your SQL commands for this sqlite3 database.\"\n",
    "print \"To exit, enter a blank line.\"\n",
    "\n",
    "while True:\n",
    "    line = raw_input()\n",
    "    if line == \"\":\n",
    "        break\n",
    "    buffer += line\n",
    "    if sqlite3.complete_statement(buffer):\n",
    "        try:\n",
    "            buffer = buffer.strip()\n",
    "            cur.execute(buffer)\n",
    "            if buffer.lstrip().upper().startswith(\"SELECT\"):\n",
    "                print cur.fetchall()\n",
    "        except sqlite3.Error as e:\n",
    "            print \"Error: \", e.args[0]\n",
    "        buffer = \"\"\n",
    "        \n",
    "con.close()"
   ]
  },
  {
   "cell_type": "markdown",
   "metadata": {},
   "source": [
    "## [Connection Objects](https://docs.python.org/2/library/sqlite3.html#connection-objects)"
   ]
  },
  {
   "cell_type": "markdown",
   "metadata": {},
   "source": [
    "[**create_function** *(name, num_params, func)*](https://docs.python.org/2/library/sqlite3.html#sqlite3.Connection.create_function)  \n",
    "Creates a user-defined function that you can later use from within SQL statements under the function name *name*.  \n",
    "*num_params* is the number of parameters the function accepts, and *func* is a Python callable that is called as the SQL function.  \n",
    "The function can return any of the types supported by SQLite: unicode, str, int, long, float, buffer and None.  "
   ]
  },
  {
   "cell_type": "raw",
   "metadata": {},
   "source": [
    "import sqlite3\n",
    "import md5\n",
    "\n",
    "def md5sum(t):\n",
    "    return md5.md5(t).hexidigest()\n",
    "\n",
    "con = sqlite3.connect(\":memory:\")\n",
    "con.create_function(\"md5\", 1, md5sum)\n",
    "cur = con.cursor()\n",
    "cur.execute(\"select md5(?)\", (\"foo\",))\n",
    "print cur.fetchone()[0]"
   ]
  },
  {
   "cell_type": "markdown",
   "metadata": {},
   "source": [
    "[**create_aggregate** *(name, num_params, aggregate_class)*](https://docs.python.org/2/library/sqlite3.html#sqlite3.Connection.create_aggregate)  \n",
    "Creates a user-defined aggregate function.  \n",
    "The aggregate class must implement a step method, which accepts the number of parameters *num_params*, and a finalize method which will return the final result of the aggregate.  \n",
    "The finalize method can return any of the types supported by SQLite: unicode, str, int, long, float, buffer and None."
   ]
  },
  {
   "cell_type": "raw",
   "metadata": {},
   "source": [
    "import sqlite3\n",
    "\n",
    "class MySum:\n",
    "    def __init__(self):\n",
    "        self.count = 0\n",
    "        \n",
    "    def step(self, value):\n",
    "        self.count += value\n",
    "        \n",
    "    def finalize(self):\n",
    "        return self.count\n",
    "    \n",
    "con = sqlite3.connect(\":memory:\")\n",
    "con.create_aggregate(\"my_sum\", 1, MySum)\n",
    "cur = con.cursor()\n",
    "cur.execute(\"create table test(i)\")\n",
    "cur.execute(\"insert into test(i) values (1)\")\n",
    "cur.execute(\"insert into test(i) values (2)\")\n",
    "cur.execute(\"select mysum(i) from test\")\n",
    "print cur.fetchone()[0]"
   ]
  },
  {
   "cell_type": "markdown",
   "metadata": {},
   "source": [
    "[**enable_load_extension** *(enabled)*](https://docs.python.org/2/library/sqlite3.html#sqlite3.Connection.enable_load_extension)  \n",
    "This routine allows/disallows the SQLite engine to load SQLite extensions from shared libraries.  \n",
    "SQLite extensions can define new functions, aggregates or whole new virtual table implementations.  \n",
    "One well-known extension is the fulltext-search extension distributed with SQLite.  \n",
    "Loadable extensions are disabled by default because some platforms (notably Mac OS X) have SQLite libraries which are compiled without this feature.  \n",
    "To get loadable extension support, you must modify `setup.py` and remove the line that sets SQLITE_OMIT_LOAD_EXTENSION."
   ]
  },
  {
   "cell_type": "code",
   "execution_count": 12,
   "metadata": {},
   "outputs": [],
   "source": [
    "import os\n",
    "\n",
    "# Destroy example file\n",
    "os.remove('example.db')"
   ]
  }
 ],
 "metadata": {
  "kernelspec": {
   "display_name": "Python 2",
   "language": "python",
   "name": "python2"
  },
  "language_info": {
   "codemirror_mode": {
    "name": "ipython",
    "version": 2
   },
   "file_extension": ".py",
   "mimetype": "text/x-python",
   "name": "python",
   "nbconvert_exporter": "python",
   "pygments_lexer": "ipython2",
   "version": "2.7.13"
  }
 },
 "nbformat": 4,
 "nbformat_minor": 2
}
